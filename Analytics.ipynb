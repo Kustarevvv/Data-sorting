{
 "cells": [
  {
   "cell_type": "markdown",
   "id": "09ccb028",
   "metadata": {},
   "source": [
    "# Сортировка данных "
   ]
  },
  {
   "cell_type": "code",
   "execution_count": 3,
   "id": "8bca1bfd",
   "metadata": {
    "tags": []
   },
   "outputs": [],
   "source": [
    "import pandas as pd \n",
    "import numpy as np\n",
    "\n",
    "amazon_df = pd.read_csv('amz_uk_processed_data.csv')"
   ]
  },
  {
   "cell_type": "code",
   "execution_count": 4,
   "id": "ea3b6afa-1d40-4aee-bcc3-61d188c3d88e",
   "metadata": {
    "tags": []
   },
   "outputs": [
    {
     "name": "stdout",
     "output_type": "stream",
     "text": [
      "<class 'pandas.core.frame.DataFrame'>\n",
      "RangeIndex: 2222742 entries, 0 to 2222741\n",
      "Data columns (total 10 columns):\n",
      " #   Column             Dtype  \n",
      "---  ------             -----  \n",
      " 0   asin               object \n",
      " 1   title              object \n",
      " 2   imgUrl             object \n",
      " 3   productURL         object \n",
      " 4   stars              float64\n",
      " 5   reviews            int64  \n",
      " 6   price              float64\n",
      " 7   isBestSeller       bool   \n",
      " 8   boughtInLastMonth  int64  \n",
      " 9   categoryName       object \n",
      "dtypes: bool(1), float64(2), int64(2), object(5)\n",
      "memory usage: 154.7+ MB\n"
     ]
    }
   ],
   "source": [
    "amazon_df.info()"
   ]
  },
  {
   "cell_type": "code",
   "execution_count": 5,
   "id": "1c50e2f1-f09c-49ba-91cc-62aaa37b4b3c",
   "metadata": {
    "tags": []
   },
   "outputs": [
    {
     "data": {
      "text/plain": [
       "Index(['asin', 'title', 'imgUrl', 'productURL', 'stars', 'reviews', 'price',\n",
       "       'isBestSeller', 'boughtInLastMonth', 'categoryName'],\n",
       "      dtype='object')"
      ]
     },
     "execution_count": 5,
     "metadata": {},
     "output_type": "execute_result"
    }
   ],
   "source": [
    "amazon_df.columns"
   ]
  },
  {
   "cell_type": "code",
   "execution_count": 6,
   "id": "0662fbcb-239a-42a0-b726-87932de3a355",
   "metadata": {
    "tags": []
   },
   "outputs": [
    {
     "data": {
      "text/plain": [
       "Index(['asin', 'title', 'imageUrl', 'productUrl', 'stars', 'reviews', 'price',\n",
       "       'isBestSeller', 'boughtInLastMonth', 'categoryName'],\n",
       "      dtype='object')"
      ]
     },
     "execution_count": 6,
     "metadata": {},
     "output_type": "execute_result"
    }
   ],
   "source": [
    "amazon_df.columns = ['asin', 'title', 'imageUrl', 'productUrl', 'stars', 'reviews', 'price', 'isBestSeller', 'boughtInLastMonth', 'categoryName']\n",
    "amazon_df.columns"
   ]
  },
  {
   "cell_type": "code",
   "execution_count": 7,
   "id": "ac80f78b-4623-45a7-9bfb-811c61b10e0a",
   "metadata": {
    "tags": []
   },
   "outputs": [
    {
     "data": {
      "text/plain": [
       "asin                 0\n",
       "title                0\n",
       "imageUrl             0\n",
       "productUrl           0\n",
       "stars                0\n",
       "reviews              0\n",
       "price                0\n",
       "isBestSeller         0\n",
       "boughtInLastMonth    0\n",
       "categoryName         0\n",
       "dtype: int64"
      ]
     },
     "execution_count": 7,
     "metadata": {},
     "output_type": "execute_result"
    }
   ],
   "source": [
    "amazon_df.isnull().sum()"
   ]
  },
  {
   "cell_type": "code",
   "execution_count": 8,
   "id": "babf046e-1e0f-4a65-b3d2-3d45a84ec239",
   "metadata": {
    "tags": []
   },
   "outputs": [
    {
     "data": {
      "text/plain": [
       "0"
      ]
     },
     "execution_count": 8,
     "metadata": {},
     "output_type": "execute_result"
    }
   ],
   "source": [
    "amazon_df.duplicated().sum()"
   ]
  },
  {
   "cell_type": "code",
   "execution_count": 9,
   "id": "cb3220ef-8d7e-4a76-8d9a-a9e4ce9cc98b",
   "metadata": {
    "tags": []
   },
   "outputs": [
    {
     "data": {
      "text/html": [
       "<div>\n",
       "<style scoped>\n",
       "    .dataframe tbody tr th:only-of-type {\n",
       "        vertical-align: middle;\n",
       "    }\n",
       "\n",
       "    .dataframe tbody tr th {\n",
       "        vertical-align: top;\n",
       "    }\n",
       "\n",
       "    .dataframe thead th {\n",
       "        text-align: right;\n",
       "    }\n",
       "</style>\n",
       "<table border=\"1\" class=\"dataframe\">\n",
       "  <thead>\n",
       "    <tr style=\"text-align: right;\">\n",
       "      <th></th>\n",
       "      <th>asin</th>\n",
       "      <th>title</th>\n",
       "      <th>imageUrl</th>\n",
       "      <th>productUrl</th>\n",
       "      <th>stars</th>\n",
       "      <th>reviews</th>\n",
       "      <th>price</th>\n",
       "      <th>isBestSeller</th>\n",
       "      <th>boughtInLastMonth</th>\n",
       "      <th>categoryName</th>\n",
       "      <th>mainCharacteristics</th>\n",
       "    </tr>\n",
       "  </thead>\n",
       "  <tbody>\n",
       "    <tr>\n",
       "      <th>0</th>\n",
       "      <td>B09B96TG33</td>\n",
       "      <td>Echo Dot (5th generation, 2022 release) | Big vibrant sound Wi-Fi and Bluetooth smart speaker with Alexa | Charcoal</td>\n",
       "      <td>https://m.media-amazon.com/images/I/71C3lbbeLsL._AC_UL320_.jpg</td>\n",
       "      <td>https://www.amazon.co.uk/dp/B09B96TG33</td>\n",
       "      <td>4.7</td>\n",
       "      <td>15308</td>\n",
       "      <td>21.99</td>\n",
       "      <td>False</td>\n",
       "      <td>0</td>\n",
       "      <td>Hi-Fi Speakers</td>\n",
       "      <td>Echo Dot (5th generation, 2022 release)</td>\n",
       "    </tr>\n",
       "    <tr>\n",
       "      <th>1</th>\n",
       "      <td>B01HTH3C8S</td>\n",
       "      <td>Anker Soundcore mini, Super-Portable Bluetooth Speaker with 15-Hour Playtime, 66-Foot Bluetooth Range, Wireless Speaker with Enhanced Bass, Noise-Cancelling Microphone, for Outdoor, Travel, Home</td>\n",
       "      <td>https://m.media-amazon.com/images/I/61c5rSxwP0L._AC_UL320_.jpg</td>\n",
       "      <td>https://www.amazon.co.uk/dp/B01HTH3C8S</td>\n",
       "      <td>4.7</td>\n",
       "      <td>98099</td>\n",
       "      <td>23.99</td>\n",
       "      <td>True</td>\n",
       "      <td>0</td>\n",
       "      <td>Hi-Fi Speakers</td>\n",
       "      <td>Anker Soundcore mini, Super-Portable Bluetooth Speaker with 15-Hour Playtime, 66-Foot Bluetooth Range, Wireless Speaker with Enhanced Bass, Noise-Cancelling Microphone, for Outdoor, Travel, Home</td>\n",
       "    </tr>\n",
       "    <tr>\n",
       "      <th>2</th>\n",
       "      <td>B09B8YWXDF</td>\n",
       "      <td>Echo Dot (5th generation, 2022 release) | Big vibrant sound Wi-Fi and Bluetooth smart speaker with Alexa | Deep Sea Blue</td>\n",
       "      <td>https://m.media-amazon.com/images/I/61j3SEUjMJL._AC_UL320_.jpg</td>\n",
       "      <td>https://www.amazon.co.uk/dp/B09B8YWXDF</td>\n",
       "      <td>4.7</td>\n",
       "      <td>15308</td>\n",
       "      <td>21.99</td>\n",
       "      <td>False</td>\n",
       "      <td>0</td>\n",
       "      <td>Hi-Fi Speakers</td>\n",
       "      <td>Echo Dot (5th generation, 2022 release)</td>\n",
       "    </tr>\n",
       "  </tbody>\n",
       "</table>\n",
       "</div>"
      ],
      "text/plain": [
       "         asin  \\\n",
       "0  B09B96TG33   \n",
       "1  B01HTH3C8S   \n",
       "2  B09B8YWXDF   \n",
       "\n",
       "                                                                                                                                                                                                title  \\\n",
       "0                                                                                 Echo Dot (5th generation, 2022 release) | Big vibrant sound Wi-Fi and Bluetooth smart speaker with Alexa | Charcoal   \n",
       "1  Anker Soundcore mini, Super-Portable Bluetooth Speaker with 15-Hour Playtime, 66-Foot Bluetooth Range, Wireless Speaker with Enhanced Bass, Noise-Cancelling Microphone, for Outdoor, Travel, Home   \n",
       "2                                                                            Echo Dot (5th generation, 2022 release) | Big vibrant sound Wi-Fi and Bluetooth smart speaker with Alexa | Deep Sea Blue   \n",
       "\n",
       "                                                         imageUrl  \\\n",
       "0  https://m.media-amazon.com/images/I/71C3lbbeLsL._AC_UL320_.jpg   \n",
       "1  https://m.media-amazon.com/images/I/61c5rSxwP0L._AC_UL320_.jpg   \n",
       "2  https://m.media-amazon.com/images/I/61j3SEUjMJL._AC_UL320_.jpg   \n",
       "\n",
       "                               productUrl  stars  reviews  price  \\\n",
       "0  https://www.amazon.co.uk/dp/B09B96TG33    4.7    15308  21.99   \n",
       "1  https://www.amazon.co.uk/dp/B01HTH3C8S    4.7    98099  23.99   \n",
       "2  https://www.amazon.co.uk/dp/B09B8YWXDF    4.7    15308  21.99   \n",
       "\n",
       "   isBestSeller  boughtInLastMonth    categoryName  \\\n",
       "0         False                  0  Hi-Fi Speakers   \n",
       "1          True                  0  Hi-Fi Speakers   \n",
       "2         False                  0  Hi-Fi Speakers   \n",
       "\n",
       "                                                                                                                                                                                  mainCharacteristics  \n",
       "0                                                                                                                                                             Echo Dot (5th generation, 2022 release)  \n",
       "1  Anker Soundcore mini, Super-Portable Bluetooth Speaker with 15-Hour Playtime, 66-Foot Bluetooth Range, Wireless Speaker with Enhanced Bass, Noise-Cancelling Microphone, for Outdoor, Travel, Home  \n",
       "2                                                                                                                                                             Echo Dot (5th generation, 2022 release)  "
      ]
     },
     "execution_count": 9,
     "metadata": {},
     "output_type": "execute_result"
    }
   ],
   "source": [
    "pd.set_option('display.max_colwidth', None) #Введем для полного просмотра данных\n",
    "\n",
    "def extract_main_characteristics(title):\n",
    "    # Разделяем название товара по разделителю ' | '\n",
    "    parts = title.split('|')\n",
    "    # Основные характеристики - это первая часть\n",
    "    main_characteristics = parts[0].strip()\n",
    "    return main_characteristics\n",
    "\n",
    "# Создаем новый столбец с основными характеристиками товара\n",
    "amazon_df['mainCharacteristics'] = amazon_df['title'].apply(extract_main_characteristics)\n",
    "\n",
    "amazon_df.head(3)"
   ]
  },
  {
   "cell_type": "code",
   "execution_count": 10,
   "id": "84a7c90f-75f4-4f04-943a-f49dd4e469d2",
   "metadata": {
    "tags": []
   },
   "outputs": [
    {
     "data": {
      "text/plain": [
       "2222742"
      ]
     },
     "execution_count": 10,
     "metadata": {},
     "output_type": "execute_result"
    }
   ],
   "source": [
    "amazon_df.shape[0]"
   ]
  },
  {
   "cell_type": "code",
   "execution_count": 11,
   "id": "40de4149-59ce-4b3d-8d44-783a63b54af1",
   "metadata": {
    "tags": []
   },
   "outputs": [
    {
     "data": {
      "text/html": [
       "<div>\n",
       "<style scoped>\n",
       "    .dataframe tbody tr th:only-of-type {\n",
       "        vertical-align: middle;\n",
       "    }\n",
       "\n",
       "    .dataframe tbody tr th {\n",
       "        vertical-align: top;\n",
       "    }\n",
       "\n",
       "    .dataframe thead th {\n",
       "        text-align: right;\n",
       "    }\n",
       "</style>\n",
       "<table border=\"1\" class=\"dataframe\">\n",
       "  <thead>\n",
       "    <tr style=\"text-align: right;\">\n",
       "      <th></th>\n",
       "      <th>asin</th>\n",
       "      <th>title</th>\n",
       "      <th>imageUrl</th>\n",
       "      <th>productUrl</th>\n",
       "      <th>stars</th>\n",
       "      <th>reviews</th>\n",
       "      <th>price</th>\n",
       "      <th>isBestSeller</th>\n",
       "      <th>boughtInLastMonth</th>\n",
       "      <th>categoryName</th>\n",
       "      <th>mainCharacteristics</th>\n",
       "    </tr>\n",
       "  </thead>\n",
       "  <tbody>\n",
       "    <tr>\n",
       "      <th>0</th>\n",
       "      <td>B09B96TG33</td>\n",
       "      <td>Echo Dot (5th generation, 2022 release) | Big vibrant sound Wi-Fi and Bluetooth smart speaker with Alexa | Charcoal</td>\n",
       "      <td>https://m.media-amazon.com/images/I/71C3lbbeLsL._AC_UL320_.jpg</td>\n",
       "      <td>https://www.amazon.co.uk/dp/B09B96TG33</td>\n",
       "      <td>4.7</td>\n",
       "      <td>15308</td>\n",
       "      <td>21.99</td>\n",
       "      <td>False</td>\n",
       "      <td>0</td>\n",
       "      <td>Hi-Fi Speakers</td>\n",
       "      <td>Echo Dot (5th generation, 2022 release)</td>\n",
       "    </tr>\n",
       "    <tr>\n",
       "      <th>1</th>\n",
       "      <td>B01HTH3C8S</td>\n",
       "      <td>Anker Soundcore mini, Super-Portable Bluetooth Speaker with 15-Hour Playtime, 66-Foot Bluetooth Range, Wireless Speaker with Enhanced Bass, Noise-Cancelling Microphone, for Outdoor, Travel, Home</td>\n",
       "      <td>https://m.media-amazon.com/images/I/61c5rSxwP0L._AC_UL320_.jpg</td>\n",
       "      <td>https://www.amazon.co.uk/dp/B01HTH3C8S</td>\n",
       "      <td>4.7</td>\n",
       "      <td>98099</td>\n",
       "      <td>23.99</td>\n",
       "      <td>True</td>\n",
       "      <td>0</td>\n",
       "      <td>Hi-Fi Speakers</td>\n",
       "      <td>Anker Soundcore mini, Super-Portable Bluetooth Speaker with 15-Hour Playtime, 66-Foot Bluetooth Range, Wireless Speaker with Enhanced Bass, Noise-Cancelling Microphone, for Outdoor, Travel, Home</td>\n",
       "    </tr>\n",
       "    <tr>\n",
       "      <th>2</th>\n",
       "      <td>B09B8T5VGV</td>\n",
       "      <td>Echo Dot with clock (5th generation, 2022 release) | Bigger vibrant sound Wi-Fi and Bluetooth smart speaker and Alexa | Cloud Blue</td>\n",
       "      <td>https://m.media-amazon.com/images/I/71yf6yTNWSL._AC_UL320_.jpg</td>\n",
       "      <td>https://www.amazon.co.uk/dp/B09B8T5VGV</td>\n",
       "      <td>4.7</td>\n",
       "      <td>7205</td>\n",
       "      <td>31.99</td>\n",
       "      <td>False</td>\n",
       "      <td>0</td>\n",
       "      <td>Hi-Fi Speakers</td>\n",
       "      <td>Echo Dot with clock (5th generation, 2022 release)</td>\n",
       "    </tr>\n",
       "    <tr>\n",
       "      <th>3</th>\n",
       "      <td>B09WX6QD65</td>\n",
       "      <td>Introducing Echo Pop | Full sound compact Wi-Fi and Bluetooth smart speaker with Alexa | Charcoal</td>\n",
       "      <td>https://m.media-amazon.com/images/I/613dEoF9-rL._AC_UL320_.jpg</td>\n",
       "      <td>https://www.amazon.co.uk/dp/B09WX6QD65</td>\n",
       "      <td>4.6</td>\n",
       "      <td>1881</td>\n",
       "      <td>17.99</td>\n",
       "      <td>False</td>\n",
       "      <td>0</td>\n",
       "      <td>Hi-Fi Speakers</td>\n",
       "      <td>Introducing Echo Pop</td>\n",
       "    </tr>\n",
       "    <tr>\n",
       "      <th>4</th>\n",
       "      <td>B01MTB55WH</td>\n",
       "      <td>Anker Soundcore 2 Portable Bluetooth Speaker with 12W Stereo Sound, BassUp, IPX7 Waterproof, 24-Hour Playtime, Wireless Stereo Pairing, Speaker for Home, Outdoors, Travel</td>\n",
       "      <td>https://m.media-amazon.com/images/I/617DcBehCqL._AC_UL320_.jpg</td>\n",
       "      <td>https://www.amazon.co.uk/dp/B01MTB55WH</td>\n",
       "      <td>4.7</td>\n",
       "      <td>103673</td>\n",
       "      <td>39.99</td>\n",
       "      <td>False</td>\n",
       "      <td>0</td>\n",
       "      <td>Hi-Fi Speakers</td>\n",
       "      <td>Anker Soundcore 2 Portable Bluetooth Speaker with 12W Stereo Sound, BassUp, IPX7 Waterproof, 24-Hour Playtime, Wireless Stereo Pairing, Speaker for Home, Outdoors, Travel</td>\n",
       "    </tr>\n",
       "  </tbody>\n",
       "</table>\n",
       "</div>"
      ],
      "text/plain": [
       "         asin  \\\n",
       "0  B09B96TG33   \n",
       "1  B01HTH3C8S   \n",
       "2  B09B8T5VGV   \n",
       "3  B09WX6QD65   \n",
       "4  B01MTB55WH   \n",
       "\n",
       "                                                                                                                                                                                                title  \\\n",
       "0                                                                                 Echo Dot (5th generation, 2022 release) | Big vibrant sound Wi-Fi and Bluetooth smart speaker with Alexa | Charcoal   \n",
       "1  Anker Soundcore mini, Super-Portable Bluetooth Speaker with 15-Hour Playtime, 66-Foot Bluetooth Range, Wireless Speaker with Enhanced Bass, Noise-Cancelling Microphone, for Outdoor, Travel, Home   \n",
       "2                                                                  Echo Dot with clock (5th generation, 2022 release) | Bigger vibrant sound Wi-Fi and Bluetooth smart speaker and Alexa | Cloud Blue   \n",
       "3                                                                                                   Introducing Echo Pop | Full sound compact Wi-Fi and Bluetooth smart speaker with Alexa | Charcoal   \n",
       "4                          Anker Soundcore 2 Portable Bluetooth Speaker with 12W Stereo Sound, BassUp, IPX7 Waterproof, 24-Hour Playtime, Wireless Stereo Pairing, Speaker for Home, Outdoors, Travel   \n",
       "\n",
       "                                                         imageUrl  \\\n",
       "0  https://m.media-amazon.com/images/I/71C3lbbeLsL._AC_UL320_.jpg   \n",
       "1  https://m.media-amazon.com/images/I/61c5rSxwP0L._AC_UL320_.jpg   \n",
       "2  https://m.media-amazon.com/images/I/71yf6yTNWSL._AC_UL320_.jpg   \n",
       "3  https://m.media-amazon.com/images/I/613dEoF9-rL._AC_UL320_.jpg   \n",
       "4  https://m.media-amazon.com/images/I/617DcBehCqL._AC_UL320_.jpg   \n",
       "\n",
       "                               productUrl  stars  reviews  price  \\\n",
       "0  https://www.amazon.co.uk/dp/B09B96TG33    4.7    15308  21.99   \n",
       "1  https://www.amazon.co.uk/dp/B01HTH3C8S    4.7    98099  23.99   \n",
       "2  https://www.amazon.co.uk/dp/B09B8T5VGV    4.7     7205  31.99   \n",
       "3  https://www.amazon.co.uk/dp/B09WX6QD65    4.6     1881  17.99   \n",
       "4  https://www.amazon.co.uk/dp/B01MTB55WH    4.7   103673  39.99   \n",
       "\n",
       "   isBestSeller  boughtInLastMonth    categoryName  \\\n",
       "0         False                  0  Hi-Fi Speakers   \n",
       "1          True                  0  Hi-Fi Speakers   \n",
       "2         False                  0  Hi-Fi Speakers   \n",
       "3         False                  0  Hi-Fi Speakers   \n",
       "4         False                  0  Hi-Fi Speakers   \n",
       "\n",
       "                                                                                                                                                                                  mainCharacteristics  \n",
       "0                                                                                                                                                             Echo Dot (5th generation, 2022 release)  \n",
       "1  Anker Soundcore mini, Super-Portable Bluetooth Speaker with 15-Hour Playtime, 66-Foot Bluetooth Range, Wireless Speaker with Enhanced Bass, Noise-Cancelling Microphone, for Outdoor, Travel, Home  \n",
       "2                                                                                                                                                  Echo Dot with clock (5th generation, 2022 release)  \n",
       "3                                                                                                                                                                                Introducing Echo Pop  \n",
       "4                          Anker Soundcore 2 Portable Bluetooth Speaker with 12W Stereo Sound, BassUp, IPX7 Waterproof, 24-Hour Playtime, Wireless Stereo Pairing, Speaker for Home, Outdoors, Travel  "
      ]
     },
     "execution_count": 11,
     "metadata": {},
     "output_type": "execute_result"
    }
   ],
   "source": [
    "# Удалим дубликаты \n",
    "df_without_duplicates = amazon_df.drop_duplicates(subset=['mainCharacteristics'])\n",
    "df_without_duplicates = df_without_duplicates.reset_index(drop=True)\n",
    "df_without_duplicates.head()"
   ]
  },
  {
   "cell_type": "code",
   "execution_count": 12,
   "id": "74d5d7c3-92aa-4035-aeb7-0e581f59b65c",
   "metadata": {
    "tags": []
   },
   "outputs": [
    {
     "data": {
      "text/plain": [
       "2057135"
      ]
     },
     "execution_count": 12,
     "metadata": {},
     "output_type": "execute_result"
    }
   ],
   "source": [
    "df_without_duplicates.shape[0]"
   ]
  },
  {
   "cell_type": "code",
   "execution_count": 13,
   "id": "c5b2e28b-9164-4ec0-9c8e-1a9fca0df158",
   "metadata": {
    "tags": []
   },
   "outputs": [
    {
     "data": {
      "text/html": [
       "<div>\n",
       "<style scoped>\n",
       "    .dataframe tbody tr th:only-of-type {\n",
       "        vertical-align: middle;\n",
       "    }\n",
       "\n",
       "    .dataframe tbody tr th {\n",
       "        vertical-align: top;\n",
       "    }\n",
       "\n",
       "    .dataframe thead th {\n",
       "        text-align: right;\n",
       "    }\n",
       "</style>\n",
       "<table border=\"1\" class=\"dataframe\">\n",
       "  <thead>\n",
       "    <tr style=\"text-align: right;\">\n",
       "      <th></th>\n",
       "      <th>asin</th>\n",
       "      <th>title</th>\n",
       "      <th>imageUrl</th>\n",
       "      <th>productUrl</th>\n",
       "      <th>stars</th>\n",
       "      <th>reviews</th>\n",
       "      <th>price</th>\n",
       "      <th>isBestSeller</th>\n",
       "      <th>boughtInLastMonth</th>\n",
       "      <th>categoryName</th>\n",
       "      <th>mainCharacteristics</th>\n",
       "      <th>halfCharacteristics</th>\n",
       "    </tr>\n",
       "  </thead>\n",
       "  <tbody>\n",
       "    <tr>\n",
       "      <th>0</th>\n",
       "      <td>B09B96TG33</td>\n",
       "      <td>Echo Dot (5th generation, 2022 release) | Big vibrant sound Wi-Fi and Bluetooth smart speaker with Alexa | Charcoal</td>\n",
       "      <td>https://m.media-amazon.com/images/I/71C3lbbeLsL._AC_UL320_.jpg</td>\n",
       "      <td>https://www.amazon.co.uk/dp/B09B96TG33</td>\n",
       "      <td>4.7</td>\n",
       "      <td>15308</td>\n",
       "      <td>21.99</td>\n",
       "      <td>False</td>\n",
       "      <td>0</td>\n",
       "      <td>Hi-Fi Speakers</td>\n",
       "      <td>Echo Dot (5th generation, 2022 release)</td>\n",
       "      <td>Echo Dot (5th gener</td>\n",
       "    </tr>\n",
       "    <tr>\n",
       "      <th>1</th>\n",
       "      <td>B01HTH3C8S</td>\n",
       "      <td>Anker Soundcore mini, Super-Portable Bluetooth Speaker with 15-Hour Playtime, 66-Foot Bluetooth Range, Wireless Speaker with Enhanced Bass, Noise-Cancelling Microphone, for Outdoor, Travel, Home</td>\n",
       "      <td>https://m.media-amazon.com/images/I/61c5rSxwP0L._AC_UL320_.jpg</td>\n",
       "      <td>https://www.amazon.co.uk/dp/B01HTH3C8S</td>\n",
       "      <td>4.7</td>\n",
       "      <td>98099</td>\n",
       "      <td>23.99</td>\n",
       "      <td>True</td>\n",
       "      <td>0</td>\n",
       "      <td>Hi-Fi Speakers</td>\n",
       "      <td>Anker Soundcore mini, Super-Portable Bluetooth Speaker with 15-Hour Playtime, 66-Foot Bluetooth Range, Wireless Speaker with Enhanced Bass, Noise-Cancelling Microphone, for Outdoor, Travel, Home</td>\n",
       "      <td>Anker Soundcore mini, Super-Portable Bluetooth Speaker with 15-Hour Playtime, 66-Foot Bluetooth R</td>\n",
       "    </tr>\n",
       "    <tr>\n",
       "      <th>2</th>\n",
       "      <td>B09B8T5VGV</td>\n",
       "      <td>Echo Dot with clock (5th generation, 2022 release) | Bigger vibrant sound Wi-Fi and Bluetooth smart speaker and Alexa | Cloud Blue</td>\n",
       "      <td>https://m.media-amazon.com/images/I/71yf6yTNWSL._AC_UL320_.jpg</td>\n",
       "      <td>https://www.amazon.co.uk/dp/B09B8T5VGV</td>\n",
       "      <td>4.7</td>\n",
       "      <td>7205</td>\n",
       "      <td>31.99</td>\n",
       "      <td>False</td>\n",
       "      <td>0</td>\n",
       "      <td>Hi-Fi Speakers</td>\n",
       "      <td>Echo Dot with clock (5th generation, 2022 release)</td>\n",
       "      <td>Echo Dot with clock (5th</td>\n",
       "    </tr>\n",
       "  </tbody>\n",
       "</table>\n",
       "</div>"
      ],
      "text/plain": [
       "         asin  \\\n",
       "0  B09B96TG33   \n",
       "1  B01HTH3C8S   \n",
       "2  B09B8T5VGV   \n",
       "\n",
       "                                                                                                                                                                                                title  \\\n",
       "0                                                                                 Echo Dot (5th generation, 2022 release) | Big vibrant sound Wi-Fi and Bluetooth smart speaker with Alexa | Charcoal   \n",
       "1  Anker Soundcore mini, Super-Portable Bluetooth Speaker with 15-Hour Playtime, 66-Foot Bluetooth Range, Wireless Speaker with Enhanced Bass, Noise-Cancelling Microphone, for Outdoor, Travel, Home   \n",
       "2                                                                  Echo Dot with clock (5th generation, 2022 release) | Bigger vibrant sound Wi-Fi and Bluetooth smart speaker and Alexa | Cloud Blue   \n",
       "\n",
       "                                                         imageUrl  \\\n",
       "0  https://m.media-amazon.com/images/I/71C3lbbeLsL._AC_UL320_.jpg   \n",
       "1  https://m.media-amazon.com/images/I/61c5rSxwP0L._AC_UL320_.jpg   \n",
       "2  https://m.media-amazon.com/images/I/71yf6yTNWSL._AC_UL320_.jpg   \n",
       "\n",
       "                               productUrl  stars  reviews  price  \\\n",
       "0  https://www.amazon.co.uk/dp/B09B96TG33    4.7    15308  21.99   \n",
       "1  https://www.amazon.co.uk/dp/B01HTH3C8S    4.7    98099  23.99   \n",
       "2  https://www.amazon.co.uk/dp/B09B8T5VGV    4.7     7205  31.99   \n",
       "\n",
       "   isBestSeller  boughtInLastMonth    categoryName  \\\n",
       "0         False                  0  Hi-Fi Speakers   \n",
       "1          True                  0  Hi-Fi Speakers   \n",
       "2         False                  0  Hi-Fi Speakers   \n",
       "\n",
       "                                                                                                                                                                                  mainCharacteristics  \\\n",
       "0                                                                                                                                                             Echo Dot (5th generation, 2022 release)   \n",
       "1  Anker Soundcore mini, Super-Portable Bluetooth Speaker with 15-Hour Playtime, 66-Foot Bluetooth Range, Wireless Speaker with Enhanced Bass, Noise-Cancelling Microphone, for Outdoor, Travel, Home   \n",
       "2                                                                                                                                                  Echo Dot with clock (5th generation, 2022 release)   \n",
       "\n",
       "                                                                                 halfCharacteristics  \n",
       "0                                                                                Echo Dot (5th gener  \n",
       "1  Anker Soundcore mini, Super-Portable Bluetooth Speaker with 15-Hour Playtime, 66-Foot Bluetooth R  \n",
       "2                                                                          Echo Dot with clock (5th   "
      ]
     },
     "execution_count": 13,
     "metadata": {},
     "output_type": "execute_result"
    }
   ],
   "source": [
    "# На предыдущем шаге мы удалили лишь часть дубликатов, поскольку не во всех товарах есть разделитель '|', \n",
    "# для этого создадим столбец с обрезанными записями\n",
    "df_without = df_without_duplicates.copy()\n",
    "df_without['halfCharacteristics'] = df_without['mainCharacteristics'].apply(lambda x: x[:len(x)//2])\n",
    "df_without.head(3)"
   ]
  },
  {
   "cell_type": "code",
   "execution_count": 14,
   "id": "5a5a0ad7-4e70-49a7-9f97-a3b6460260e1",
   "metadata": {
    "tags": []
   },
   "outputs": [],
   "source": [
    "pd.reset_option('display.max_colwidth', None)"
   ]
  },
  {
   "cell_type": "code",
   "execution_count": 15,
   "id": "0bb07e77-8016-4130-baea-fb3583899fe8",
   "metadata": {
    "tags": []
   },
   "outputs": [],
   "source": [
    "df_without['halfCharacteristics'] = df_without['halfCharacteristics'].str.lower()\n",
    "\n",
    "df_without = df_without.drop_duplicates(subset=['halfCharacteristics'])\n",
    "df_without = df_without.reset_index(drop=True)"
   ]
  },
  {
   "cell_type": "code",
   "execution_count": 16,
   "id": "75fad4e4-8b2a-404d-b2a8-5a5cfb6bc0c4",
   "metadata": {
    "tags": []
   },
   "outputs": [
    {
     "data": {
      "text/plain": [
       "1902014"
      ]
     },
     "execution_count": 16,
     "metadata": {},
     "output_type": "execute_result"
    }
   ],
   "source": [
    "df_without.shape[0]"
   ]
  },
  {
   "cell_type": "code",
   "execution_count": 17,
   "id": "1bc86772-0202-430e-9115-136817d69776",
   "metadata": {
    "tags": []
   },
   "outputs": [
    {
     "data": {
      "text/html": [
       "<div>\n",
       "<style scoped>\n",
       "    .dataframe tbody tr th:only-of-type {\n",
       "        vertical-align: middle;\n",
       "    }\n",
       "\n",
       "    .dataframe tbody tr th {\n",
       "        vertical-align: top;\n",
       "    }\n",
       "\n",
       "    .dataframe thead th {\n",
       "        text-align: right;\n",
       "    }\n",
       "</style>\n",
       "<table border=\"1\" class=\"dataframe\">\n",
       "  <thead>\n",
       "    <tr style=\"text-align: right;\">\n",
       "      <th></th>\n",
       "      <th>asin</th>\n",
       "      <th>title</th>\n",
       "      <th>imageUrl</th>\n",
       "      <th>productUrl</th>\n",
       "      <th>stars</th>\n",
       "      <th>reviews</th>\n",
       "      <th>price</th>\n",
       "      <th>isBestSeller</th>\n",
       "      <th>boughtInLastMonth</th>\n",
       "      <th>categoryName</th>\n",
       "      <th>mainCharacteristics</th>\n",
       "    </tr>\n",
       "  </thead>\n",
       "  <tbody>\n",
       "    <tr>\n",
       "      <th>0</th>\n",
       "      <td>B09B96TG33</td>\n",
       "      <td>Echo Dot (5th generation, 2022 release) | Big ...</td>\n",
       "      <td>https://m.media-amazon.com/images/I/71C3lbbeLs...</td>\n",
       "      <td>https://www.amazon.co.uk/dp/B09B96TG33</td>\n",
       "      <td>4.7</td>\n",
       "      <td>15308</td>\n",
       "      <td>21.99</td>\n",
       "      <td>False</td>\n",
       "      <td>0</td>\n",
       "      <td>Hi-Fi Speakers</td>\n",
       "      <td>Echo Dot (5th generation, 2022 release)</td>\n",
       "    </tr>\n",
       "    <tr>\n",
       "      <th>1</th>\n",
       "      <td>B01HTH3C8S</td>\n",
       "      <td>Anker Soundcore mini, Super-Portable Bluetooth...</td>\n",
       "      <td>https://m.media-amazon.com/images/I/61c5rSxwP0...</td>\n",
       "      <td>https://www.amazon.co.uk/dp/B01HTH3C8S</td>\n",
       "      <td>4.7</td>\n",
       "      <td>98099</td>\n",
       "      <td>23.99</td>\n",
       "      <td>True</td>\n",
       "      <td>0</td>\n",
       "      <td>Hi-Fi Speakers</td>\n",
       "      <td>Anker Soundcore mini, Super-Portable Bluetooth...</td>\n",
       "    </tr>\n",
       "    <tr>\n",
       "      <th>2</th>\n",
       "      <td>B09B8T5VGV</td>\n",
       "      <td>Echo Dot with clock (5th generation, 2022 rele...</td>\n",
       "      <td>https://m.media-amazon.com/images/I/71yf6yTNWS...</td>\n",
       "      <td>https://www.amazon.co.uk/dp/B09B8T5VGV</td>\n",
       "      <td>4.7</td>\n",
       "      <td>7205</td>\n",
       "      <td>31.99</td>\n",
       "      <td>False</td>\n",
       "      <td>0</td>\n",
       "      <td>Hi-Fi Speakers</td>\n",
       "      <td>Echo Dot with clock (5th generation, 2022 rele...</td>\n",
       "    </tr>\n",
       "    <tr>\n",
       "      <th>3</th>\n",
       "      <td>B09WX6QD65</td>\n",
       "      <td>Introducing Echo Pop | Full sound compact Wi-F...</td>\n",
       "      <td>https://m.media-amazon.com/images/I/613dEoF9-r...</td>\n",
       "      <td>https://www.amazon.co.uk/dp/B09WX6QD65</td>\n",
       "      <td>4.6</td>\n",
       "      <td>1881</td>\n",
       "      <td>17.99</td>\n",
       "      <td>False</td>\n",
       "      <td>0</td>\n",
       "      <td>Hi-Fi Speakers</td>\n",
       "      <td>Introducing Echo Pop</td>\n",
       "    </tr>\n",
       "    <tr>\n",
       "      <th>4</th>\n",
       "      <td>B01MTB55WH</td>\n",
       "      <td>Anker Soundcore 2 Portable Bluetooth Speaker w...</td>\n",
       "      <td>https://m.media-amazon.com/images/I/617DcBehCq...</td>\n",
       "      <td>https://www.amazon.co.uk/dp/B01MTB55WH</td>\n",
       "      <td>4.7</td>\n",
       "      <td>103673</td>\n",
       "      <td>39.99</td>\n",
       "      <td>False</td>\n",
       "      <td>0</td>\n",
       "      <td>Hi-Fi Speakers</td>\n",
       "      <td>Anker Soundcore 2 Portable Bluetooth Speaker w...</td>\n",
       "    </tr>\n",
       "    <tr>\n",
       "      <th>...</th>\n",
       "      <td>...</td>\n",
       "      <td>...</td>\n",
       "      <td>...</td>\n",
       "      <td>...</td>\n",
       "      <td>...</td>\n",
       "      <td>...</td>\n",
       "      <td>...</td>\n",
       "      <td>...</td>\n",
       "      <td>...</td>\n",
       "      <td>...</td>\n",
       "      <td>...</td>\n",
       "    </tr>\n",
       "    <tr>\n",
       "      <th>1902009</th>\n",
       "      <td>B0CHSD7P2Q</td>\n",
       "      <td>Motorbike Armour, Motorbike Clothing, Cycling ...</td>\n",
       "      <td>https://m.media-amazon.com/images/I/61ycPU7k4k...</td>\n",
       "      <td>https://www.amazon.co.uk/dp/B0CHSD7P2Q</td>\n",
       "      <td>0.0</td>\n",
       "      <td>0</td>\n",
       "      <td>22.34</td>\n",
       "      <td>False</td>\n",
       "      <td>0</td>\n",
       "      <td>Motorbike Clothing</td>\n",
       "      <td>Motorbike Armour, Motorbike Clothing, Cycling ...</td>\n",
       "    </tr>\n",
       "    <tr>\n",
       "      <th>1902010</th>\n",
       "      <td>B0B7B8FNBQ</td>\n",
       "      <td>PROFIRST Waterproof Motorcycle 2 Piece Ladies ...</td>\n",
       "      <td>https://m.media-amazon.com/images/I/51gkh0iYT5...</td>\n",
       "      <td>https://www.amazon.co.uk/dp/B0B7B8FNBQ</td>\n",
       "      <td>0.0</td>\n",
       "      <td>0</td>\n",
       "      <td>97.99</td>\n",
       "      <td>False</td>\n",
       "      <td>0</td>\n",
       "      <td>Motorbike Clothing</td>\n",
       "      <td>PROFIRST Waterproof Motorcycle 2 Piece Ladies ...</td>\n",
       "    </tr>\n",
       "    <tr>\n",
       "      <th>1902011</th>\n",
       "      <td>B0BD5FL5FB</td>\n",
       "      <td>Men’s Motorcycle Motorbike Biker Trousers Kevl...</td>\n",
       "      <td>https://m.media-amazon.com/images/I/81gJgaMHg4...</td>\n",
       "      <td>https://www.amazon.co.uk/dp/B0BD5FL5FB</td>\n",
       "      <td>0.0</td>\n",
       "      <td>0</td>\n",
       "      <td>52.99</td>\n",
       "      <td>False</td>\n",
       "      <td>0</td>\n",
       "      <td>Motorbike Clothing</td>\n",
       "      <td>Men’s Motorcycle Motorbike Biker Trousers Kevl...</td>\n",
       "    </tr>\n",
       "    <tr>\n",
       "      <th>1902012</th>\n",
       "      <td>B008OYLL4I</td>\n",
       "      <td>Texpeed Mens Motorcycle Motorbike Biker Trouse...</td>\n",
       "      <td>https://m.media-amazon.com/images/I/81KQ5askGG...</td>\n",
       "      <td>https://www.amazon.co.uk/dp/B008OYLL4I</td>\n",
       "      <td>4.3</td>\n",
       "      <td>404</td>\n",
       "      <td>79.99</td>\n",
       "      <td>False</td>\n",
       "      <td>0</td>\n",
       "      <td>Motorbike Clothing</td>\n",
       "      <td>Texpeed Mens Motorcycle Motorbike Biker Trouse...</td>\n",
       "    </tr>\n",
       "    <tr>\n",
       "      <th>1902013</th>\n",
       "      <td>B08P3W9B3T</td>\n",
       "      <td>RIDEX CJ223 Motorcycle Motorbike Jacket Armour...</td>\n",
       "      <td>https://m.media-amazon.com/images/I/61QaDygK8m...</td>\n",
       "      <td>https://www.amazon.co.uk/dp/B08P3W9B3T</td>\n",
       "      <td>4.5</td>\n",
       "      <td>34</td>\n",
       "      <td>53.99</td>\n",
       "      <td>False</td>\n",
       "      <td>0</td>\n",
       "      <td>Motorbike Clothing</td>\n",
       "      <td>RIDEX CJ223 Motorcycle Motorbike Jacket Armour...</td>\n",
       "    </tr>\n",
       "  </tbody>\n",
       "</table>\n",
       "<p>1902014 rows × 11 columns</p>\n",
       "</div>"
      ],
      "text/plain": [
       "               asin                                              title  \\\n",
       "0        B09B96TG33  Echo Dot (5th generation, 2022 release) | Big ...   \n",
       "1        B01HTH3C8S  Anker Soundcore mini, Super-Portable Bluetooth...   \n",
       "2        B09B8T5VGV  Echo Dot with clock (5th generation, 2022 rele...   \n",
       "3        B09WX6QD65  Introducing Echo Pop | Full sound compact Wi-F...   \n",
       "4        B01MTB55WH  Anker Soundcore 2 Portable Bluetooth Speaker w...   \n",
       "...             ...                                                ...   \n",
       "1902009  B0CHSD7P2Q  Motorbike Armour, Motorbike Clothing, Cycling ...   \n",
       "1902010  B0B7B8FNBQ  PROFIRST Waterproof Motorcycle 2 Piece Ladies ...   \n",
       "1902011  B0BD5FL5FB  Men’s Motorcycle Motorbike Biker Trousers Kevl...   \n",
       "1902012  B008OYLL4I  Texpeed Mens Motorcycle Motorbike Biker Trouse...   \n",
       "1902013  B08P3W9B3T  RIDEX CJ223 Motorcycle Motorbike Jacket Armour...   \n",
       "\n",
       "                                                  imageUrl  \\\n",
       "0        https://m.media-amazon.com/images/I/71C3lbbeLs...   \n",
       "1        https://m.media-amazon.com/images/I/61c5rSxwP0...   \n",
       "2        https://m.media-amazon.com/images/I/71yf6yTNWS...   \n",
       "3        https://m.media-amazon.com/images/I/613dEoF9-r...   \n",
       "4        https://m.media-amazon.com/images/I/617DcBehCq...   \n",
       "...                                                    ...   \n",
       "1902009  https://m.media-amazon.com/images/I/61ycPU7k4k...   \n",
       "1902010  https://m.media-amazon.com/images/I/51gkh0iYT5...   \n",
       "1902011  https://m.media-amazon.com/images/I/81gJgaMHg4...   \n",
       "1902012  https://m.media-amazon.com/images/I/81KQ5askGG...   \n",
       "1902013  https://m.media-amazon.com/images/I/61QaDygK8m...   \n",
       "\n",
       "                                     productUrl  stars  reviews  price  \\\n",
       "0        https://www.amazon.co.uk/dp/B09B96TG33    4.7    15308  21.99   \n",
       "1        https://www.amazon.co.uk/dp/B01HTH3C8S    4.7    98099  23.99   \n",
       "2        https://www.amazon.co.uk/dp/B09B8T5VGV    4.7     7205  31.99   \n",
       "3        https://www.amazon.co.uk/dp/B09WX6QD65    4.6     1881  17.99   \n",
       "4        https://www.amazon.co.uk/dp/B01MTB55WH    4.7   103673  39.99   \n",
       "...                                         ...    ...      ...    ...   \n",
       "1902009  https://www.amazon.co.uk/dp/B0CHSD7P2Q    0.0        0  22.34   \n",
       "1902010  https://www.amazon.co.uk/dp/B0B7B8FNBQ    0.0        0  97.99   \n",
       "1902011  https://www.amazon.co.uk/dp/B0BD5FL5FB    0.0        0  52.99   \n",
       "1902012  https://www.amazon.co.uk/dp/B008OYLL4I    4.3      404  79.99   \n",
       "1902013  https://www.amazon.co.uk/dp/B08P3W9B3T    4.5       34  53.99   \n",
       "\n",
       "         isBestSeller  boughtInLastMonth        categoryName  \\\n",
       "0               False                  0      Hi-Fi Speakers   \n",
       "1                True                  0      Hi-Fi Speakers   \n",
       "2               False                  0      Hi-Fi Speakers   \n",
       "3               False                  0      Hi-Fi Speakers   \n",
       "4               False                  0      Hi-Fi Speakers   \n",
       "...               ...                ...                 ...   \n",
       "1902009         False                  0  Motorbike Clothing   \n",
       "1902010         False                  0  Motorbike Clothing   \n",
       "1902011         False                  0  Motorbike Clothing   \n",
       "1902012         False                  0  Motorbike Clothing   \n",
       "1902013         False                  0  Motorbike Clothing   \n",
       "\n",
       "                                       mainCharacteristics  \n",
       "0                  Echo Dot (5th generation, 2022 release)  \n",
       "1        Anker Soundcore mini, Super-Portable Bluetooth...  \n",
       "2        Echo Dot with clock (5th generation, 2022 rele...  \n",
       "3                                     Introducing Echo Pop  \n",
       "4        Anker Soundcore 2 Portable Bluetooth Speaker w...  \n",
       "...                                                    ...  \n",
       "1902009  Motorbike Armour, Motorbike Clothing, Cycling ...  \n",
       "1902010  PROFIRST Waterproof Motorcycle 2 Piece Ladies ...  \n",
       "1902011  Men’s Motorcycle Motorbike Biker Trousers Kevl...  \n",
       "1902012  Texpeed Mens Motorcycle Motorbike Biker Trouse...  \n",
       "1902013  RIDEX CJ223 Motorcycle Motorbike Jacket Armour...  \n",
       "\n",
       "[1902014 rows x 11 columns]"
      ]
     },
     "execution_count": 17,
     "metadata": {},
     "output_type": "execute_result"
    }
   ],
   "source": [
    "df_without.drop(columns = 'halfCharacteristics')"
   ]
  },
  {
   "cell_type": "code",
   "execution_count": 18,
   "id": "df6d8db3-eacf-437b-bad3-01a50cd433f5",
   "metadata": {
    "scrolled": true,
    "tags": []
   },
   "outputs": [
    {
     "data": {
      "text/plain": [
       "1356658"
      ]
     },
     "execution_count": 18,
     "metadata": {},
     "output_type": "execute_result"
    }
   ],
   "source": [
    "df_without['reviews'].max()"
   ]
  },
  {
   "cell_type": "markdown",
   "id": "bf68ae4f",
   "metadata": {},
   "source": [
    "# Гипотеза \n",
    "\n",
    "Выдвинем гипотезу, что оценка у товара тем выше, чем больше у товара отзывов"
   ]
  },
  {
   "cell_type": "markdown",
   "id": "f1489920",
   "metadata": {},
   "source": [
    "# Проверка гипотезы "
   ]
  },
  {
   "cell_type": "code",
   "execution_count": 19,
   "id": "dcfc1c22-e58a-4021-8824-656acf920cfc",
   "metadata": {
    "scrolled": true,
    "tags": []
   },
   "outputs": [
    {
     "data": {
      "image/png": "[encoded data removed]",
      "text/plain": [
       "<Figure size 1000x600 with 1 Axes>"
      ]
     },
     "metadata": {},
     "output_type": "display_data"
    }
   ],
   "source": [
    "import matplotlib.pyplot as plt\n",
    "\n",
    "# Создаем график\n",
    "plt.figure(figsize=(10, 6))\n",
    "\n",
    "# Задаем данные для осей x и y\n",
    "y = df_without['reviews']\n",
    "x = df_without['stars']\n",
    "\n",
    "# Строим график\n",
    "plt.scatter(x, y, alpha=0.5)\n",
    "\n",
    "# Добавляем заголовок и метки к осям\n",
    "plt.title('Зависимость между stars и reviews')\n",
    "plt.ylabel('Отзывы')\n",
    "plt.xlabel('Оценка')\n",
    "\n",
    "# Отображаем график\n",
    "plt.show()"
   ]
  },
  {
   "cell_type": "markdown",
   "id": "88831e2b",
   "metadata": {},
   "source": [
    "Действительно, продукты с низкими оценками имеют маленькое число отзывов, в то же время, при увеличении количества отзывов у товара повышаются шансы на более высокую оценку."
   ]
  }
 ],
 "metadata": {
  "kernelspec": {
   "display_name": "Python 3 (ipykernel)",
   "language": "python",
   "name": "python3"
  },
  "language_info": {
   "codemirror_mode": {
    "name": "ipython",
    "version": 3
   },
   "file_extension": ".py",
   "mimetype": "text/x-python",
   "name": "python",
   "nbconvert_exporter": "python",
   "pygments_lexer": "ipython3",
   "version": "3.11.4"
  }
 },
 "nbformat": 4,
 "nbformat_minor": 5
}
